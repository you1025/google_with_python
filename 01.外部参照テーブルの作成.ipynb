{
 "cells": [
  {
   "cell_type": "markdown",
   "id": "6ffb14a3-dd73-42d6-a485-7c0b69136b02",
   "metadata": {},
   "source": [
    "https://docs.gspread.org/en/v4.0.1/"
   ]
  },
  {
   "cell_type": "code",
   "execution_count": 1,
   "id": "97d10a15-42b7-49e9-9724-cd22d703d0d2",
   "metadata": {},
   "outputs": [],
   "source": [
    "from google.cloud import bigquery"
   ]
  },
  {
   "cell_type": "markdown",
   "id": "926aecae-e2d8-499e-8c8a-77aecb0dc8be",
   "metadata": {},
   "source": [
    "# 認証"
   ]
  },
  {
   "cell_type": "code",
   "execution_count": 8,
   "id": "eebdcde2-d95e-424a-a54a-aad28fd4a6e1",
   "metadata": {},
   "outputs": [
    {
     "data": {
      "text/plain": [
       "<google.cloud.bigquery.client.Client at 0x7f813100b550>"
      ]
     },
     "execution_count": 8,
     "metadata": {},
     "output_type": "execute_result"
    }
   ],
   "source": [
    "bq_client = bigquery.Client.from_service_account_json(\"keyfile.json\")\n",
    "bq_client"
   ]
  },
  {
   "cell_type": "markdown",
   "id": "83fd71eb-6887-434c-a925-02b276f926b4",
   "metadata": {},
   "source": [
    "# 外部データテーブルの作成"
   ]
  },
  {
   "cell_type": "markdown",
   "id": "8b177714-7be4-4f0a-808a-b2f0365b9f9a",
   "metadata": {},
   "source": [
    "## テーブルインスタンスの生成"
   ]
  },
  {
   "cell_type": "code",
   "execution_count": 3,
   "id": "e20dda7b-5502-4251-9fe6-f3cbf0863812",
   "metadata": {},
   "outputs": [
    {
     "data": {
      "text/plain": [
       "Table(TableReference(DatasetReference('testforspeee', 'test'), 'ImportTest'))"
      ]
     },
     "execution_count": 3,
     "metadata": {},
     "output_type": "execute_result"
    }
   ],
   "source": [
    "target_table = bigquery.Table(bq_client.dataset(\"test\").table(\"ImportTest\"))\n",
    "target_table"
   ]
  },
  {
   "cell_type": "markdown",
   "id": "be6f4c3f-e149-4644-b225-85a39ea53182",
   "metadata": {},
   "source": [
    "## 外部テーブルの指定"
   ]
  },
  {
   "cell_type": "code",
   "execution_count": 4,
   "id": "9d8c717a-3f09-411f-a4b9-e4ab8a62a0ab",
   "metadata": {},
   "outputs": [],
   "source": [
    "external_config = bigquery.ExternalConfig(bigquery.ExternalSourceFormat.GOOGLE_SHEETS)\n",
    "external_config.autodetect = False\n",
    "external_config.source_uris = [\n",
    "    \"https://docs.google.com/spreadsheets/d/1rKFlvRnlhmvKSGfPaV-OryR0BgLlf06JbaFfwTiUkdg/\"\n",
    "]\n",
    "external_config.schema = [\n",
    "    bigquery.SchemaField(name=\"id\", field_type=\"int64\", mode=\"REQUIRED\", description=\"ID 列です！\"),\n",
    "    bigquery.SchemaField(name=\"value\", field_type=\"int64\", mode=\"NULLABLE\", description=\"値です！\")\n",
    "]\n",
    "external_config.options.skip_leading_rows = 1\n",
    "target_table.external_data_configuration = external_config"
   ]
  },
  {
   "cell_type": "markdown",
   "id": "7a8cddb0-2f2b-42c1-8197-ced5d2f3b25e",
   "metadata": {},
   "source": [
    "## テーブル作成の実行"
   ]
  },
  {
   "cell_type": "code",
   "execution_count": 5,
   "id": "81177386-0c6c-4429-8fa4-92c7bdad446a",
   "metadata": {},
   "outputs": [
    {
     "data": {
      "text/plain": [
       "Table(TableReference(DatasetReference('testforspeee', 'test'), 'ImportTest'))"
      ]
     },
     "execution_count": 5,
     "metadata": {},
     "output_type": "execute_result"
    }
   ],
   "source": [
    "bq_client.create_table(target_table)"
   ]
  }
 ],
 "metadata": {
  "kernelspec": {
   "display_name": "py396",
   "language": "python",
   "name": "py396"
  },
  "language_info": {
   "codemirror_mode": {
    "name": "ipython",
    "version": 3
   },
   "file_extension": ".py",
   "mimetype": "text/x-python",
   "name": "python",
   "nbconvert_exporter": "python",
   "pygments_lexer": "ipython3",
   "version": "3.9.6"
  }
 },
 "nbformat": 4,
 "nbformat_minor": 5
}
