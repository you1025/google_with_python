{
 "cells": [
  {
   "cell_type": "markdown",
   "id": "58bde4c4-9d55-44cb-a154-f1b7d855f3bd",
   "metadata": {},
   "source": [
    "https://docs.gspread.org/en/v4.0.1/"
   ]
  },
  {
   "cell_type": "code",
   "execution_count": 1,
   "id": "c798377f-50cc-4962-b5eb-cabbb9313e2f",
   "metadata": {},
   "outputs": [],
   "source": [
    "import gspread\n",
    "import google.auth"
   ]
  },
  {
   "cell_type": "markdown",
   "id": "3dd615e5-f34a-42d5-b245-62a54b66b9cc",
   "metadata": {},
   "source": [
    "# 認証"
   ]
  },
  {
   "cell_type": "code",
   "execution_count": 36,
   "id": "efdab44b-ad27-40a2-9335-8ec2b9492467",
   "metadata": {},
   "outputs": [
    {
     "data": {
      "text/plain": [
       "<gspread.client.Client at 0x7fa5b6c8bfa0>"
      ]
     },
     "execution_count": 36,
     "metadata": {},
     "output_type": "execute_result"
    }
   ],
   "source": [
    "spread_sheet_client = gspread.service_account(filename=\"keyfile.json\")\n",
    "spread_sheet_client"
   ]
  },
  {
   "cell_type": "markdown",
   "id": "9459f8a7-1b81-47d8-9734-c7bc05f4fdc1",
   "metadata": {},
   "source": [
    "# スプレッドシートの取得"
   ]
  },
  {
   "cell_type": "markdown",
   "id": "af90ec47-2393-4ec6-9a5a-3234e41b5b7d",
   "metadata": {},
   "source": [
    "## ID を指定"
   ]
  },
  {
   "cell_type": "code",
   "execution_count": 3,
   "id": "8cedbaeb-14b7-40a7-a290-45caf811b2dd",
   "metadata": {},
   "outputs": [
    {
     "data": {
      "text/plain": [
       "<Spreadsheet 'ImportTest' id:1rKFlvRnlhmvKSGfPaV-OryR0BgLlf06JbaFfwTiUkdg>"
      ]
     },
     "execution_count": 3,
     "metadata": {},
     "output_type": "execute_result"
    }
   ],
   "source": [
    "spread_sheet = spread_sheet_client.open_by_key(\"1rKFlvRnlhmvKSGfPaV-OryR0BgLlf06JbaFfwTiUkdg\")\n",
    "spread_sheet"
   ]
  },
  {
   "cell_type": "markdown",
   "id": "4f0c0b7a-0ed1-4ef3-b7c0-75f556bb98db",
   "metadata": {},
   "source": [
    "## URL を指定"
   ]
  },
  {
   "cell_type": "code",
   "execution_count": 4,
   "id": "d1899532-747d-4eda-8de4-27fcaf0b22f9",
   "metadata": {},
   "outputs": [
    {
     "data": {
      "text/plain": [
       "<Spreadsheet 'ImportTest' id:1rKFlvRnlhmvKSGfPaV-OryR0BgLlf06JbaFfwTiUkdg>"
      ]
     },
     "execution_count": 4,
     "metadata": {},
     "output_type": "execute_result"
    }
   ],
   "source": [
    "spread_sheet_client.open_by_url(\"https://docs.google.com/spreadsheets/d/1rKFlvRnlhmvKSGfPaV-OryR0BgLlf06JbaFfwTiUkdg/\")"
   ]
  },
  {
   "cell_type": "markdown",
   "id": "a5f0815d-b9f6-499e-9342-6746bac4a9eb",
   "metadata": {},
   "source": [
    "## ファイル名を指定\n",
    "\n",
    "これは複数存在する可能性があるのでいかんと思う"
   ]
  },
  {
   "cell_type": "code",
   "execution_count": 5,
   "id": "94d685eb-3841-4e7d-bb77-6265a7a506b0",
   "metadata": {},
   "outputs": [
    {
     "data": {
      "text/plain": [
       "<Spreadsheet 'ImportTest' id:1rKFlvRnlhmvKSGfPaV-OryR0BgLlf06JbaFfwTiUkdg>"
      ]
     },
     "execution_count": 5,
     "metadata": {},
     "output_type": "execute_result"
    }
   ],
   "source": [
    "spread_sheet_client.open(\"ImportTest\")"
   ]
  },
  {
   "cell_type": "markdown",
   "id": "47724907-b154-477e-8140-9f701c1691c4",
   "metadata": {},
   "source": [
    "# シートの取得"
   ]
  },
  {
   "cell_type": "markdown",
   "id": "cf59b8c7-f57f-4189-9e56-040258ff6ed0",
   "metadata": {},
   "source": [
    "## 1 番目のシート"
   ]
  },
  {
   "cell_type": "code",
   "execution_count": 6,
   "id": "b32b9c54-5756-482e-950e-f06e5a3e6fdb",
   "metadata": {},
   "outputs": [
    {
     "data": {
      "text/plain": [
       "<Worksheet 'test' id:0>"
      ]
     },
     "execution_count": 6,
     "metadata": {},
     "output_type": "execute_result"
    }
   ],
   "source": [
    "spread_sheet.sheet1"
   ]
  },
  {
   "cell_type": "markdown",
   "id": "d6d5d2a5-2aab-4e84-8964-16b24d9f1108",
   "metadata": {},
   "source": [
    "## インデックスを指定"
   ]
  },
  {
   "cell_type": "code",
   "execution_count": 7,
   "id": "72e5ac4c-5104-48c4-bcb2-405d0a00932f",
   "metadata": {},
   "outputs": [
    {
     "data": {
      "text/plain": [
       "<Worksheet 'test' id:0>"
      ]
     },
     "execution_count": 7,
     "metadata": {},
     "output_type": "execute_result"
    }
   ],
   "source": [
    "spread_sheet.get_worksheet(0)"
   ]
  },
  {
   "cell_type": "markdown",
   "id": "0abf9cfc-b18a-419d-b204-4bba185f7f46",
   "metadata": {},
   "source": [
    "## シート名を指定"
   ]
  },
  {
   "cell_type": "code",
   "execution_count": 8,
   "id": "8d062bfe-e2cf-472f-a9c9-d507ec74e752",
   "metadata": {},
   "outputs": [
    {
     "data": {
      "text/plain": [
       "<Worksheet 'test' id:0>"
      ]
     },
     "execution_count": 8,
     "metadata": {},
     "output_type": "execute_result"
    }
   ],
   "source": [
    "spread_sheet.worksheet(\"test\")"
   ]
  },
  {
   "cell_type": "markdown",
   "id": "2ed75e65-1c44-42a4-9b86-08b0d7c51eb9",
   "metadata": {},
   "source": [
    "## シートの一覧を取得\n",
    "\n",
    "Worksheet オブジェクトの一覧をリストで取得"
   ]
  },
  {
   "cell_type": "code",
   "execution_count": 9,
   "id": "ab63972b-d25d-4fd1-9a86-41281c73193d",
   "metadata": {},
   "outputs": [
    {
     "data": {
      "text/plain": [
       "[<Worksheet 'test' id:0>, <Worksheet 'test2' id:301843041>]"
      ]
     },
     "execution_count": 9,
     "metadata": {},
     "output_type": "execute_result"
    }
   ],
   "source": [
    "spread_sheet.worksheets()"
   ]
  },
  {
   "cell_type": "markdown",
   "id": "dd13617d-21d6-4b09-bba7-93ffffc84017",
   "metadata": {},
   "source": [
    "# セルの取得"
   ]
  },
  {
   "cell_type": "markdown",
   "id": "fa57d86d-9f84-4a93-b72c-9d8496b71a9e",
   "metadata": {},
   "source": [
    "## A1 notation で取得"
   ]
  },
  {
   "cell_type": "code",
   "execution_count": 10,
   "id": "6c379e44-7134-4347-84c9-6a22bd22cd38",
   "metadata": {},
   "outputs": [
    {
     "data": {
      "text/plain": [
       "<Cell R2C1 '1'>"
      ]
     },
     "execution_count": 10,
     "metadata": {},
     "output_type": "execute_result"
    }
   ],
   "source": [
    "spread_sheet.sheet1.acell(\"A2\")"
   ]
  },
  {
   "cell_type": "markdown",
   "id": "8d4f894f-3d7f-4ed3-83f3-9879d371576d",
   "metadata": {},
   "source": [
    "## 行と列のインデックスを指定して取得"
   ]
  },
  {
   "cell_type": "code",
   "execution_count": 11,
   "id": "9e78c3b5-95d1-495f-a0bc-e248668ba428",
   "metadata": {},
   "outputs": [
    {
     "data": {
      "text/plain": [
       "<Cell R2C1 '1'>"
      ]
     },
     "execution_count": 11,
     "metadata": {},
     "output_type": "execute_result"
    }
   ],
   "source": [
    "spread_sheet.sheet1.cell(2, 1)"
   ]
  },
  {
   "cell_type": "markdown",
   "id": "129e61ec-63aa-400b-bb14-070f07323d70",
   "metadata": {},
   "source": [
    "## セルの値を取得"
   ]
  },
  {
   "cell_type": "code",
   "execution_count": 12,
   "id": "a0e99cbe-797f-49cc-a064-ddb609a61988",
   "metadata": {},
   "outputs": [
    {
     "data": {
      "text/plain": [
       "'1'"
      ]
     },
     "execution_count": 12,
     "metadata": {},
     "output_type": "execute_result"
    }
   ],
   "source": [
    "spread_sheet.worksheet(\"test\").acell(\"A2\").value"
   ]
  },
  {
   "cell_type": "markdown",
   "id": "af2be4de-e2a1-464b-8d02-c39c8f1f8853",
   "metadata": {},
   "source": [
    "## セルに記載された式を取得"
   ]
  },
  {
   "cell_type": "code",
   "execution_count": 13,
   "id": "2fe9cd93-57cd-4153-8bfb-7ed2b63b5758",
   "metadata": {},
   "outputs": [
    {
     "data": {
      "text/plain": [
       "'=test!A2'"
      ]
     },
     "execution_count": 13,
     "metadata": {},
     "output_type": "execute_result"
    }
   ],
   "source": [
    "spread_sheet.worksheet(\"test2\").acell(\"A1\", value_render_option=\"FORMULA\").value"
   ]
  },
  {
   "cell_type": "markdown",
   "id": "9a5e2cf9-09f7-4a47-a5a6-309d5b123ccf",
   "metadata": {
    "tags": []
   },
   "source": [
    "## 行を取得\n",
    "\n",
    "1 始まりっぽい(A1 Notation なんだと思う)"
   ]
  },
  {
   "cell_type": "code",
   "execution_count": 15,
   "id": "5b55e93c-9202-4f5b-9cba-0ef536678f2d",
   "metadata": {},
   "outputs": [
    {
     "data": {
      "text/plain": [
       "['id', 'value']"
      ]
     },
     "execution_count": 15,
     "metadata": {},
     "output_type": "execute_result"
    }
   ],
   "source": [
    "spread_sheet.worksheet(\"test\").row_values(1)"
   ]
  },
  {
   "cell_type": "markdown",
   "id": "dbf824af-1a1c-485f-9108-c729821609d8",
   "metadata": {},
   "source": [
    "## 列を取得"
   ]
  },
  {
   "cell_type": "code",
   "execution_count": 22,
   "id": "30a837e9-8a84-4d37-ba6b-3e9c207fab3f",
   "metadata": {},
   "outputs": [
    {
     "data": {
      "text/plain": [
       "['id', '1', '2', '3']"
      ]
     },
     "execution_count": 22,
     "metadata": {},
     "output_type": "execute_result"
    }
   ],
   "source": [
    "spread_sheet.worksheet(\"test\").col_values(1)"
   ]
  },
  {
   "cell_type": "markdown",
   "id": "95808a21-d8e5-4af2-9931-65b8a29c1c46",
   "metadata": {
    "tags": []
   },
   "source": [
    "## 値の一覧を取得\n",
    "\n",
    "リストのリストが返る\n",
    "\n",
    "DataRange の取得ぽい"
   ]
  },
  {
   "cell_type": "code",
   "execution_count": 14,
   "id": "6425024a-b572-4fb4-992f-0f6e77f0b04d",
   "metadata": {},
   "outputs": [
    {
     "data": {
      "text/plain": [
       "[['1', '100'], ['2', '200'], ['3', '300']]"
      ]
     },
     "execution_count": 14,
     "metadata": {},
     "output_type": "execute_result"
    }
   ],
   "source": [
    "spread_sheet.worksheet(\"test2\").get_all_values()"
   ]
  },
  {
   "cell_type": "markdown",
   "id": "3bf05537-4269-4c61-a9ec-9e9e08c40611",
   "metadata": {},
   "source": [
    "## 全ての行データを取得\n",
    "\n",
    "Dictionary のリストとして取得  \n",
    "1 行目をヘッダとして認識するっぽい(head オプションのデフォルト値が 1)"
   ]
  },
  {
   "cell_type": "code",
   "execution_count": 29,
   "id": "b2a5a253-76ec-473e-b247-dcd92c717d7d",
   "metadata": {},
   "outputs": [
    {
     "data": {
      "text/plain": [
       "[{'id': 1, 'value': 100}, {'id': 2, 'value': 200}, {'id': 3, 'value': 300}]"
      ]
     },
     "execution_count": 29,
     "metadata": {},
     "output_type": "execute_result"
    }
   ],
   "source": [
    "spread_sheet.worksheet(\"test\").get_all_records()"
   ]
  },
  {
   "cell_type": "markdown",
   "id": "97713415-b77f-4ef8-b01a-c5b119baea1b",
   "metadata": {},
   "source": [
    "1 行目をヘッダとして明示的に指定"
   ]
  },
  {
   "cell_type": "code",
   "execution_count": 35,
   "id": "80b3ef6d-1db5-43ea-be66-6af2064ed81a",
   "metadata": {},
   "outputs": [
    {
     "data": {
      "text/plain": [
       "[{'id': 1, 'value': 100}, {'id': 2, 'value': 200}, {'id': 3, 'value': 300}]"
      ]
     },
     "execution_count": 35,
     "metadata": {},
     "output_type": "execute_result"
    }
   ],
   "source": [
    "spread_sheet.worksheet(\"test\").get_all_records(head=1)"
   ]
  },
  {
   "cell_type": "code",
   "execution_count": 31,
   "id": "fa980c1a-7224-4bcf-bee2-4c31ae847655",
   "metadata": {},
   "outputs": [
    {
     "data": {
      "text/plain": [
       "[{'1': 2, '100': 200}, {'1': 3, '100': 300}]"
      ]
     },
     "execution_count": 31,
     "metadata": {},
     "output_type": "execute_result"
    }
   ],
   "source": [
    "spread_sheet.worksheet(\"test2\").get_all_records()"
   ]
  }
 ],
 "metadata": {
  "kernelspec": {
   "display_name": "py396",
   "language": "python",
   "name": "py396"
  },
  "language_info": {
   "codemirror_mode": {
    "name": "ipython",
    "version": 3
   },
   "file_extension": ".py",
   "mimetype": "text/x-python",
   "name": "python",
   "nbconvert_exporter": "python",
   "pygments_lexer": "ipython3",
   "version": "3.9.6"
  }
 },
 "nbformat": 4,
 "nbformat_minor": 5
}
